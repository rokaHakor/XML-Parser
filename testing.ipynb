{
 "metadata": {
  "language_info": {
   "codemirror_mode": {
    "name": "ipython",
    "version": 3
   },
   "file_extension": ".py",
   "mimetype": "text/x-python",
   "name": "python",
   "nbconvert_exporter": "python",
   "pygments_lexer": "ipython3",
   "version": "3.8.2"
  },
  "orig_nbformat": 4,
  "kernelspec": {
   "name": "python3",
   "display_name": "Python 3.8.2 64-bit"
  },
  "interpreter": {
   "hash": "157db74b4f4a538d3ef8bdfdfae7912e75216f45244ca3284cedad6d7c09d39a"
  }
 },
 "nbformat": 4,
 "nbformat_minor": 2,
 "cells": [
  {
   "cell_type": "code",
   "execution_count": 1,
   "metadata": {},
   "outputs": [],
   "source": [
    "import re\n",
    "import json\n",
    "import xml.etree.ElementTree as ET"
   ]
  },
  {
   "cell_type": "code",
   "execution_count": 25,
   "metadata": {},
   "outputs": [
    {
     "output_type": "stream",
     "name": "stdout",
     "text": [
      "<Element '{http://www.abbyy.com/FineReader_xml/FineReader10-schema-v1.xml}document' at 0x00000157B3A84C70>\n"
     ]
    }
   ],
   "source": [
    "tree = ET.parse('LM_backend_challenge/C.xml')\n",
    "root = tree.getroot()\n",
    "print(root)"
   ]
  },
  {
   "cell_type": "code",
   "execution_count": null,
   "metadata": {},
   "outputs": [],
   "source": [
    "def namespace(element):\n",
    "    m = re.match(r'\\{.*\\}', element.tag)\n",
    "    return m.group(0) if m else ''"
   ]
  },
  {
   "cell_type": "code",
   "execution_count": 3,
   "metadata": {},
   "outputs": [],
   "source": [
    "def all_children(root):\n",
    "    if 'formatting' in root.tag and root.text is not None:\n",
    "        return root.text.strip()\n",
    "    text = ''\n",
    "    for child in root:\n",
    "        temp = ''\n",
    "        if not text:\n",
    "            text = all_children(child)\n",
    "        else:\n",
    "            temp = all_children(child)\n",
    "        if temp:\n",
    "            text += '\\n' + temp\n",
    "    return text"
   ]
  },
  {
   "cell_type": "code",
   "execution_count": 4,
   "metadata": {},
   "outputs": [],
   "source": [
    "def parse_text(root):\n",
    "    block = []\n",
    "    for item in root.findall('.//{http://www.abbyy.com/FineReader_xml/FineReader10-schema-v1.xml}text/'):\n",
    "        sub_block = []\n",
    "        for child in item.findall('.//{http://www.abbyy.com/FineReader_xml/FineReader10-schema-v1.xml}formatting'):\n",
    "            if child.text:\n",
    "                sub_block.append(child.text)\n",
    "        if len(sub_block) > 0:\n",
    "            block.append(sub_block)\n",
    "    return block"
   ]
  },
  {
   "cell_type": "code",
   "execution_count": 3,
   "metadata": {},
   "outputs": [],
   "source": [
    "def parse_text2(root):\n",
    "    block = []\n",
    "    for item in root.findall('.//{http://www.abbyy.com/FineReader_xml/FineReader10-schema-v1.xml}formatting'):\n",
    "        if item.text:\n",
    "            block.append(item.text)\n",
    "    return block"
   ]
  },
  {
   "cell_type": "code",
   "execution_count": 109,
   "metadata": {
    "tags": []
   },
   "outputs": [],
   "source": [
    "text_list = []\n",
    "for item in root.findall('.//{http://www.abbyy.com/FineReader_xml/FineReader10-schema-v1.xml}text/'):\n",
    "    text_list.append(all_children(item))"
   ]
  },
  {
   "cell_type": "code",
   "execution_count": 4,
   "metadata": {},
   "outputs": [],
   "source": [
    "def find_text(text_list, text):\n",
    "    for index, value in enumerate(text_list):\n",
    "        if text in value:\n",
    "            return index"
   ]
  },
  {
   "cell_type": "code",
   "execution_count": 5,
   "metadata": {},
   "outputs": [],
   "source": [
    "def find_text_reverse(text_list, text, start_index):\n",
    "    for index in range(start_index, -1, -1):\n",
    "        if text in text_list[index]:\n",
    "            return index"
   ]
  },
  {
   "cell_type": "code",
   "execution_count": 6,
   "metadata": {},
   "outputs": [],
   "source": [
    "def find_vs(text_list, defend_index):\n",
    "    for index in range(defend_index, -1, -1):\n",
    "        if re.search('[Vv][Ss]{0,1}\\.', text_list[index]):\n",
    "            return index"
   ]
  },
  {
   "cell_type": "code",
   "execution_count": 7,
   "metadata": {},
   "outputs": [],
   "source": [
    "def find_relevant(text_list, start, end):\n",
    "    text = ''\n",
    "    for index in range(start, end-1, -1):\n",
    "        if ',' in text_list[index] and len(text_list[index]) > 3:\n",
    "            text += text_list[index] + '\\n'\n",
    "    return text"
   ]
  },
  {
   "cell_type": "code",
   "execution_count": 14,
   "metadata": {},
   "outputs": [],
   "source": [
    "def find_defendant(text_list, start, end):\n",
    "    text = ''\n",
    "    for index in range(start, end + 1):\n",
    "        if ',' in text_list[index] and len(text_list[index]) > 3:\n",
    "            text += text_list[index] + '\\n'\n",
    "    return text"
   ]
  },
  {
   "cell_type": "code",
   "execution_count": 16,
   "metadata": {},
   "outputs": [],
   "source": [
    "def find_plaintiff(text_list, start):\n",
    "    for index in range(start - 1, -1, -1):\n",
    "        if ',' in text_list[index] and len(text_list[index]) > 3:\n",
    "            return text_list[index]"
   ]
  },
  {
   "cell_type": "code",
   "execution_count": 26,
   "metadata": {},
   "outputs": [
    {
     "output_type": "stream",
     "name": "stdout",
     "text": [
      "Plaintiff,\nvs.\nDefendants.\n"
     ]
    }
   ],
   "source": [
    "parse_list = parse_text2(root)\n",
    "defend_index = find_text(parse_list, 'Defendant')\n",
    "vs_index = find_vs(parse_list, defend_index)\n",
    "plaint_index = find_text_reverse(parse_list, 'Plaintiff,', vs_index)\n",
    "print(parse_list[plaint_index])\n",
    "print(parse_list[vs_index])\n",
    "print(parse_list[defend_index])"
   ]
  },
  {
   "cell_type": "code",
   "execution_count": 27,
   "metadata": {},
   "outputs": [
    {
     "output_type": "stream",
     "name": "stdout",
     "text": [
      "LAGUARDIA ENTERPRISES, INC., a\nCalifornia Corporation, dba SONSONATE\nGRILL; and DOES 1 through 25, inclusive,\n\nALBA ALVARADO, an individual;\n"
     ]
    }
   ],
   "source": [
    "print(find_defendant(parse_list, vs_index, defend_index))\n",
    "print(find_plaintiff(parse_list, plaint_index))"
   ]
  },
  {
   "cell_type": "code",
   "execution_count": 31,
   "metadata": {},
   "outputs": [
    {
     "output_type": "stream",
     "name": "stdout",
     "text": [
      "***\na California limited liability corporation, which owns and operates a property management\nLLC owns and/or manages various residential properties in Alameda County.\n***\na California limited liability corporation, which owns and operates a property management\nLLC owns and/or manages various residential properties in Alameda County.\n"
     ]
    }
   ],
   "source": [
    "parse_list = parse_text(root)\n",
    "defend = False\n",
    "plaint = False\n",
    "defendant = 0\n",
    "plaintiff = 0\n",
    "plaint_index = find_text(parse_list, 'Plaintiff,')\n",
    "defend_index = find_text(parse_list, 'Defendant')\n",
    "for index, element in reversed(list(enumerate(parse_list))):\n",
    "    for text in reversed(element):\n",
    "        if defend and ',' in text:\n",
    "            defendant = index\n",
    "            defend = False\n",
    "        if plaint and ',' in text:\n",
    "            plaintiff = index\n",
    "            plaint = False\n",
    "        if defendant == 0 and 'Defendant' in text:\n",
    "            defend = True\n",
    "        if plaintiff == 0 and 'Plaintiff' in text:\n",
    "            plaint = True\n",
    "print('***')\n",
    "for element in parse_list[defendant]:\n",
    "    if 'Defendant' not in element:\n",
    "        print(element)\n",
    "print('***')\n",
    "for element in parse_list[plaintiff]:\n",
    "    if 'Plaintiff' not in element:\n",
    "        print(element)"
   ]
  },
  {
   "cell_type": "code",
   "execution_count": 110,
   "metadata": {},
   "outputs": [
    {
     "output_type": "stream",
     "name": "stdout",
     "text": [
      "90\n"
     ]
    }
   ],
   "source": [
    "print(len(text_list))"
   ]
  },
  {
   "cell_type": "code",
   "execution_count": 111,
   "metadata": {},
   "outputs": [
    {
     "output_type": "stream",
     "name": "stdout",
     "text": [
      "0 1\n1 2\n2 3\n3 4\n4 5\n5 6\n6 7\n7 8\n8 9\n9 10\n10 11\n11 12\n12 13\n13 14\n14 15\n15 16\n16 17\n17 18\n18 19\n19 20\n20 21\n21 22\n22 23\n23 24\n24 25\n25 LAW OFFICES OF C. JOE SAYAS, JR.\n26 C. JOE SAYAS, JR. (Bar No. 122397)\n27 KARL P. EVANGELISTA (Bar No. 250685)\n500 N. Brand Boulevard, Suite 980\n28 Glendale, California 91203\nTelephone: (818) 291-0088\nFacsimile: (818) 240-9955\n29 <ifU\\\n30 Attorneys for Plaintiff Angelo Angeles\n31 FILED\n32 SUPERIOR COURT OFCAUFDRNM\nCOUNTYOFLOSANGFlST\n33 JAN\n312017\n34 Sherri R. Cartefcgecutive Officer/Clerk\n-\nDeTO\n'\n35 SUPERIOR COURT OF CALIFORNIA\n36 COUNTY OF LOS ANGELES, CENTRAL DISTRICT\n37 ANGELO ANGELES, an individual,\nPlaintiff,\n38 ) Case No.:\n39 )\n40 B C\n6\n4 8 7 4 4\n41 ) COMPLAINT FOR:\n42 )\n43 vs.\n44 )\n)\n45 HILL-ROM COMPANY, INC., an Indiana )\ncorporation; and DOES 1 through 100, inclusive, )\n46 )\n47 1.\n48 2\n.\n49 Defendants.\n50 b\n51 3.\n52 4.\n53 DISABILITY DISCRIMINATION-\nUNLAWFUL TERMINATION\n(Cal. Gov.\nCode § 12940(a\n));\n54 DISABILITY DISCRIMINATION—\nRETALIATION FOR REQUESTING\nREASONABLE ACCOMMODATION\n{Cal. Gov. Code § 12940(m)(2))\\\n55 DISABILITY DISCRIMINATION-\nFAILURE TO ENGAGE IN\nINTERACTIVE PROCESS\n{Cal. Gov. Code\n§ 12940\n(h));\n56 DISABILITY DISCRIMINATION-\nFAILURE TO PROVIDE REASONABLE\nACCOMMODATION\n{Cal. Gov. Code §\n12940(m));\n57 TO\n58 m\n59 o\n60 )\n61 )    5. WRONGFUL TERMINATION\nS'\n62 )\n^\n63 )\n64 O O TO\n65 x x- m\nm ni\n31\nai.\n66 VIOLATION OF PlgBEIg\n(Cal.\n67 6\n.\n68 Gov. Code § 12900\n3    \"    .? *\n69 ni n# jx 1\n70 INTENTIONAL INFLICTION\nI\nEMOTIONAL DISTRESS; 8 C &\n71 --J\n>'X)\n72 m\n73 x>\n74 )\n75 )\n76 ) AND DEMAND FOR JURY TRIAL\n77 )\n78 •bt «bt\n79 O O\n80 &\n•bt G-4\n81 O cn\n82 o\n83 .CO\n84 x>\n85 o o\n86 o o\n87 o\n88 \n89 COMPLAINT AND DEMAND FOR JURY TRIAL\n"
     ]
    }
   ],
   "source": [
    "for index, text in enumerate(text_list):\n",
    "    print(index, text)"
   ]
  },
  {
   "cell_type": "code",
   "execution_count": 9,
   "metadata": {},
   "outputs": [
    {
     "output_type": "stream",
     "name": "stdout",
     "text": [
      "<_io.BufferedReader name='LM_backend_challenge/A.xml'>\n"
     ]
    }
   ],
   "source": [
    "with open('LM_backend_challenge/A.xml', 'rb') as f:\n",
    "    print(f)"
   ]
  },
  {
   "cell_type": "code",
   "execution_count": null,
   "metadata": {},
   "outputs": [],
   "source": []
  }
 ]
}